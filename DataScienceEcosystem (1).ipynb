{
 "cells": [
  {
   "cell_type": "markdown",
   "id": "a622eab0-5bde-40a5-9bbb-408a508c92e4",
   "metadata": {},
   "source": [
    "# <u>Data Science Tools and Ecosystem</u>"
   ]
  },
  {
   "cell_type": "markdown",
   "id": "e6397200-6a3c-4dc8-b19d-5d1f2b1ca3c8",
   "metadata": {},
   "source": [
    "In this notebook, Data Science Tools and Ecosystem are summarized.\r\n"
   ]
  },
  {
   "cell_type": "markdown",
   "id": "ca62c399-c430-4d72-8eba-fae04583dbd6",
   "metadata": {},
   "source": [
    "**<u>Objectives:</u>**\n",
    "\n",
    "- List popular languages for Data Science\n",
    "- Describe common libraries used in data science\n",
    "- Identify data science tools and their uses\n",
    "- Convert time units with Python code examples\n",
    "- Understand the structure of markdown tables and cells\n"
   ]
  },
  {
   "cell_type": "markdown",
   "id": "887071d0-8695-4a41-8d23-cff417a7d809",
   "metadata": {},
   "source": [
    "Some of the popular languages that Data Scientists use are:\n",
    "\n",
    "1. Python\n",
    "2. R\n",
    "3. SQL\n",
    "4. Julia\n",
    "5. Java\n"
   ]
  },
  {
   "cell_type": "markdown",
   "id": "c93ac601-45e3-4f85-8072-03fef74955d2",
   "metadata": {},
   "source": [
    "Some of the commonly used libraries used by Data Scientists include:\n",
    "\n",
    "1. Pandas\n",
    "2. NumPy\n",
    "3. Matplotlib\n",
    "4. Scikit-learn\n",
    "5. TensorFlow\n"
   ]
  },
  {
   "cell_type": "markdown",
   "id": "1ae3af3f-4930-4bdc-b799-54e75525517d",
   "metadata": {},
   "source": [
    "| Data Science Tools        |\n",
    "|---------------------------|\n",
    "| Jupyter Notebook          |\n",
    "| RStudio                   |\n",
    "| Apache Zeppelin           |\n"
   ]
  },
  {
   "cell_type": "markdown",
   "id": "57587baa-9e55-4059-b38d-395b5ce716bd",
   "metadata": {},
   "source": [
    "### Below are a few examples of evaluating arithmetic expressions in Python\n"
   ]
  },
  {
   "cell_type": "code",
   "execution_count": null,
   "id": "3e5a36c2-5063-48fd-8ee2-61dcb33da444",
   "metadata": {},
   "outputs": [],
   "source": [
    "#This a simple arithmetic expression to mutiply then add integers\n",
    "(3*4)+5"
   ]
  },
  {
   "cell_type": "code",
   "execution_count": null,
   "id": "ed7a7dab-5e89-44c3-bcc0-5c29bbde3e38",
   "metadata": {},
   "outputs": [],
   "source": [
    "# This will convert 200 minutes to hours by dividing by 60\n",
    "minutes = 200\n",
    "hours = minutes / 60\n",
    "hours\n"
   ]
  },
  {
   "cell_type": "markdown",
   "id": "c4549997-5e77-43bb-ae33-690082b7d28c",
   "metadata": {},
   "source": [
    "## Author\n",
    "\n",
    "## Shraddhesh Bhalerao ##\n"
   ]
  },
  {
   "cell_type": "code",
   "execution_count": null,
   "id": "ae7955f0-88f9-466a-b095-26304d378d97",
   "metadata": {},
   "outputs": [],
   "source": []
  }
 ],
 "metadata": {
  "kernelspec": {
   "display_name": "Python 3 (ipykernel)",
   "language": "python",
   "name": "python3"
  },
  "language_info": {
   "codemirror_mode": {
    "name": "ipython",
    "version": 3
   },
   "file_extension": ".py",
   "mimetype": "text/x-python",
   "name": "python",
   "nbconvert_exporter": "python",
   "pygments_lexer": "ipython3",
   "version": "3.12.4"
  }
 },
 "nbformat": 4,
 "nbformat_minor": 5
}
